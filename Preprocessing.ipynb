{
 "cells": [
  {
   "cell_type": "markdown",
   "metadata": {
    "id": "e1a7e470-90d1-4940-a316-9437eb30f839"
   },
   "source": [
    "<div style=\"float:left\">\n",
    "    <h1 style=\"width:800px\">Reproducible processing for design storm sequence</h1>\n",
    "    <h3 style=\"width:600px\">CASA0012: MSc SDSV Dissertation</h3>\n",
    "    <h3 style=\"width:600px\">Author: Haisu Chen</h3>\n",
    "</div>\n",
    "<div style=\"float:right\"><img width=\"100\" src=\"https://github.com/jreades/i2p/raw/master/img/casa_logo.jpg\" /></div>"
   ]
  },
  {
   "cell_type": "markdown",
   "metadata": {},
   "source": [
    "This part of notebook aims to produce the 1-hour rainfall sequence of 1% AEP risk. The remaining preprocessing will be condcuted in QGIS. The *urls* of dataset associated to hydrodynamic modelling will be outlined."
   ]
  },
  {
   "cell_type": "code",
   "execution_count": 2,
   "metadata": {},
   "outputs": [
    {
     "name": "stdout",
     "output_type": "stream",
     "text": [
      "Collecting mikeio\n",
      "  Downloading mikeio-1.0.3-py3-none-any.whl (186 kB)\n",
      "\u001b[2K     \u001b[90m━━━━━━━━━━━━━━━━━━━━━━━━━━━━━━━━━━━━━━━\u001b[0m \u001b[32m186.3/186.3 kB\u001b[0m \u001b[31m7.6 MB/s\u001b[0m eta \u001b[36m0:00:00\u001b[0m\n",
      "\u001b[?25hRequirement already satisfied: scipy>1.0 in /opt/conda/lib/python3.8/site-packages (from mikeio) (1.9.0)\n",
      "Requirement already satisfied: pyyaml in /opt/conda/lib/python3.8/site-packages (from mikeio) (5.3.1)\n",
      "Requirement already satisfied: pandas>1.0 in /opt/conda/lib/python3.8/site-packages (from mikeio) (1.3.5)\n",
      "Collecting mikecore>=0.2.1\n",
      "  Downloading mikecore-0.2.1-py3-none-any.whl (17.1 MB)\n",
      "\u001b[2K     \u001b[90m━━━━━━━━━━━━━━━━━━━━━━━━━━━━━━━━━━━━━━━━\u001b[0m \u001b[32m17.1/17.1 MB\u001b[0m \u001b[31m10.3 MB/s\u001b[0m eta \u001b[36m0:00:00\u001b[0m00:01\u001b[0m00:01\u001b[0m\n",
      "\u001b[?25hRequirement already satisfied: tqdm in /opt/conda/lib/python3.8/site-packages (from mikeio) (4.49.0)\n",
      "Collecting xarray\n",
      "  Downloading xarray-2022.6.0-py3-none-any.whl (927 kB)\n",
      "\u001b[2K     \u001b[90m━━━━━━━━━━━━━━━━━━━━━━━━━━━━━━━━━━━━━━━\u001b[0m \u001b[32m927.2/927.2 kB\u001b[0m \u001b[31m9.2 MB/s\u001b[0m eta \u001b[36m0:00:00\u001b[0ma \u001b[36m0:00:01\u001b[0m\n",
      "\u001b[?25hRequirement already satisfied: numpy>=1.15.0 in /opt/conda/lib/python3.8/site-packages (from mikeio) (1.22.3)\n",
      "Requirement already satisfied: python-dateutil>=2.7.3 in /opt/conda/lib/python3.8/site-packages (from pandas>1.0->mikeio) (2.8.1)\n",
      "Requirement already satisfied: pytz>=2017.3 in /opt/conda/lib/python3.8/site-packages (from pandas>1.0->mikeio) (2020.1)\n",
      "Requirement already satisfied: packaging>=20.0 in /opt/conda/lib/python3.8/site-packages (from xarray->mikeio) (21.3)\n",
      "Requirement already satisfied: pyparsing!=3.0.5,>=2.0.2 in /opt/conda/lib/python3.8/site-packages (from packaging>=20.0->xarray->mikeio) (2.4.7)\n",
      "Requirement already satisfied: six>=1.5 in /opt/conda/lib/python3.8/site-packages (from python-dateutil>=2.7.3->pandas>1.0->mikeio) (1.15.0)\n",
      "Installing collected packages: mikecore, xarray, mikeio\n",
      "Successfully installed mikecore-0.2.1 mikeio-1.0.3 xarray-2022.6.0\n",
      "\n",
      "\u001b[1m[\u001b[0m\u001b[34;49mnotice\u001b[0m\u001b[1;39;49m]\u001b[0m\u001b[39;49m A new release of pip available: \u001b[0m\u001b[31;49m22.2.1\u001b[0m\u001b[39;49m -> \u001b[0m\u001b[32;49m22.2.2\u001b[0m\n",
      "\u001b[1m[\u001b[0m\u001b[34;49mnotice\u001b[0m\u001b[1;39;49m]\u001b[0m\u001b[39;49m To update, run: \u001b[0m\u001b[32;49mpip install --upgrade pip\u001b[0m\n"
     ]
    }
   ],
   "source": [
    "!pip install mikeio"
   ]
  },
  {
   "cell_type": "code",
   "execution_count": 3,
   "metadata": {
    "id": "feacbb1e-be73-4614-96f5-dee5b3a6ed97"
   },
   "outputs": [],
   "source": [
    "import warnings\n",
    "import pandas as pd\n",
    "import geopandas as gpd\n",
    "import numpy as np\n",
    "import seaborn as sns\n",
    "import time\n",
    "import mikeio\n",
    "from mikeio import ItemInfo, EUMType, EUMUnit\n",
    "import seaborn as sns\n",
    "import os\n",
    "from datetime import datetime, timedelta\n",
    "import matplotlib.pyplot as plt\n",
    "from scipy.optimize import curve_fit\n",
    "from scipy.integrate import quad\n",
    "import networkx as nx"
   ]
  },
  {
   "cell_type": "code",
   "execution_count": 40,
   "metadata": {},
   "outputs": [],
   "source": [
    "dirs = 'Outputs'\n",
    "if not os.path.exists(dirs):\n",
    "    os.makedirs(dirs)"
   ]
  },
  {
   "cell_type": "markdown",
   "metadata": {},
   "source": [
    "## Hydrograph estabilish"
   ]
  },
  {
   "cell_type": "code",
   "execution_count": 4,
   "metadata": {
    "id": "2b9de577-f011-42ca-8b5d-5a4c23de9d33"
   },
   "outputs": [],
   "source": [
    "# Credit: https://github.com/rywm-dhi/storms\n",
    "def getIntensity(duration, A, B, C):\n",
    "    \"\"\"Calculate intensity for specified duration given IDF parameters A, B, and C.\n",
    "\n",
    "    Args:\n",
    "        duration: duration to calculate intensity for. Unit: minutes\n",
    "        A: constant A in equation i = A / (duration + B)**C.\n",
    "        B: constant B in equation i = A / (duration + B)**C.\n",
    "        C: constant C in equation i = A / (duration + B)**C.\n",
    "\n",
    "    Returns:\n",
    "        Returns intensity in mm/hr.\n",
    "\n",
    "    \"\"\"\n",
    "    return A / (duration + B) ** C\n",
    "\n",
    "\n",
    "def getABC(durations, intensities, priority_durations=[]):\n",
    "    \"\"\"Calculate IDF ABC parameters based on set of durations and intensities.\n",
    "\n",
    "    Args:\n",
    "        durations: an array of the durations. Unit: minutes\n",
    "        intensities: an array of the intensities. Unit: mm/hr\n",
    "\n",
    "    Returns:\n",
    "        Returns A, B, C, r_squared as a tuple.\n",
    "\n",
    "    \"\"\"\n",
    "\n",
    "    # Priority durations\n",
    "    if len(priority_durations) > 0:\n",
    "        sigma = durations.apply(lambda x: 0.05 if x in priority_durations else 0.25)\n",
    "    else:\n",
    "        sigma = None\n",
    "\n",
    "    # get A, B, C\n",
    "    with warnings.catch_warnings():\n",
    "        # curve_fit throws a warning because it tries negative exponents ... ignore it\n",
    "        warnings.simplefilter(\"ignore\")\n",
    "        popt, pcov = curve_fit(getIntensity, durations, intensities, sigma=sigma)\n",
    "\n",
    "    A, B, C = popt\n",
    "\n",
    "    # calculate r squared\n",
    "    residuals = intensities - getIntensity(durations, A, B, C)\n",
    "    ss_res = np.sum(residuals**2)\n",
    "    ss_tot = np.sum((intensities - np.mean(intensities)) ** 2)\n",
    "    r_squared = 1 - (ss_res / ss_tot)\n",
    "\n",
    "    return (A, B, C, r_squared)\n",
    "\n",
    "\n",
    "def ib(tb, r, a, b, c):\n",
    "    \"\"\"Chicago design storm equation - intensity before peak.\n",
    "        Helper for i function.\n",
    "\n",
    "    Args:\n",
    "        tb: time before peak in minutes (measured from peak towards beginning)\n",
    "        r: time to peak ratio (peak time divided by total duration)\n",
    "        a: IDF A parameter - can be calculated from getABC\n",
    "        b: IDF B parameter - can be calculated from getABC\n",
    "        c: IDF C parameter  - can be calculated from getABC\n",
    "\n",
    "    Returns:\n",
    "        Returns intensity in mm/hr.\n",
    "\n",
    "    \"\"\"\n",
    "    return a * ((1 - c) * tb / r + b) / ((tb / r) + b) ** (c + 1)\n",
    "\n",
    "\n",
    "def ia(ta, r, a, b, c):\n",
    "    \"\"\"Chicago design storm equation - intensity after peak. Helper for i function.\n",
    "\n",
    "    Args:\n",
    "        ta: time after peak in minutes (measured from peak towards end)\n",
    "        r: time to peak ratio (peak time divided by total duration)\n",
    "        a: IDF A parameter - can be calculated from getABC\n",
    "        b: IDF B parameter - can be calculated from getABC\n",
    "        c: IDF C parameter  - can be calculated from getABC\n",
    "\n",
    "    Returns:\n",
    "        Returns intensity in mm/hr.\n",
    "\n",
    "    \"\"\"\n",
    "    return a * ((1 - c) * ta / (1 - r) + b) / ((ta / (1 - r)) + b) ** (c + 1)\n",
    "\n",
    "\n",
    "def i(t, T, r, a, b, c):\n",
    "    \"\"\"Chicago design storm equation - intensity. Uses ia and ib functions.\n",
    "\n",
    "    Args:\n",
    "        t: time in minutes from storm eginning\n",
    "        T: total storm duration in minutes\n",
    "        r: time to peak ratio (peak time divided by total duration)\n",
    "        a: IDF A parameter - can be calculated from getABC\n",
    "        b: IDF B parameter - can be calculated from getABC\n",
    "        c: IDF C parameter  - can be calculated from getABC\n",
    "\n",
    "    Returns:\n",
    "        Returns intensity in mm/hr.\n",
    "\n",
    "    \"\"\"\n",
    "    if t < T * r:\n",
    "        return ib(T * r - t, r, a, b, c)\n",
    "    elif t > T * r:\n",
    "        return ia(t - T * r, r, a, b, c)\n",
    "    else:\n",
    "        # Should be infinity, but this does the job\n",
    "        return 1000\n",
    "\n",
    "\n",
    "def createCDS(T, r, dt, a, b, c):\n",
    "    \"\"\"Makes a chicago design storm.\n",
    "\n",
    "    Args:\n",
    "        T: total storm duration in minutes\n",
    "        r: time to peak ration (peak time divided by total duration)\n",
    "        dt: time step in minutes\n",
    "        a: IDF A parameter - can be calculated from getABC\n",
    "        b: IDF B parameter - can be calculated from getABC\n",
    "        c: IDF C parameter  - can be calculated from getABC\n",
    "\n",
    "    Returns:\n",
    "        Returns tuple of (dt, array of intensities).\n",
    "\n",
    "    \"\"\"\n",
    "\n",
    "    # make time axis\n",
    "    times = np.arange(0 - dt * r, T - dt * r, dt)\n",
    "\n",
    "    # determine time step averaged intensities\n",
    "    values = [0]\n",
    "    for time in times:\n",
    "        values.append(quad(i, time, time + dt, args=(T, r, a, b, c))[0] / dt)\n",
    "\n",
    "    df = pd.DataFrame(\n",
    "        {\"Intensity\": values},\n",
    "        index=pd.date_range(\"2000-1-1\", periods=len(times) + 1, freq=f\"{dt}min\"),\n",
    "    )\n",
    "    df.index.name = \"Time\"\n",
    "\n",
    "    return df\n"
   ]
  },
  {
   "cell_type": "markdown",
   "metadata": {},
   "source": [
    "Design Rainfall accessed from: http://www.bom.gov.au/water/designRainfalls/revised-ifd/?multipoint"
   ]
  },
  {
   "cell_type": "markdown",
   "metadata": {},
   "source": [
    "Latitude: -37.82\n",
    "Longitude: 144.96"
   ]
  },
  {
   "cell_type": "code",
   "execution_count": 18,
   "metadata": {},
   "outputs": [],
   "source": [
    "df = pd.read_csv('Resources/depths_-37.82_144.96_all_design.csv',header=9)"
   ]
  },
  {
   "cell_type": "code",
   "execution_count": 19,
   "metadata": {},
   "outputs": [
    {
     "data": {
      "text/html": [
       "<div>\n",
       "<style scoped>\n",
       "    .dataframe tbody tr th:only-of-type {\n",
       "        vertical-align: middle;\n",
       "    }\n",
       "\n",
       "    .dataframe tbody tr th {\n",
       "        vertical-align: top;\n",
       "    }\n",
       "\n",
       "    .dataframe thead th {\n",
       "        text-align: right;\n",
       "    }\n",
       "</style>\n",
       "<table border=\"1\" class=\"dataframe\">\n",
       "  <thead>\n",
       "    <tr style=\"text-align: right;\">\n",
       "      <th></th>\n",
       "      <th>Duration</th>\n",
       "      <th>Duration in min</th>\n",
       "      <th>12EY</th>\n",
       "      <th>6EY</th>\n",
       "      <th>4EY</th>\n",
       "      <th>3EY</th>\n",
       "      <th>2EY</th>\n",
       "      <th>63.20%</th>\n",
       "      <th>50%</th>\n",
       "      <th>0.5EY</th>\n",
       "      <th>20%</th>\n",
       "      <th>0.2EY</th>\n",
       "      <th>10%</th>\n",
       "      <th>5%</th>\n",
       "      <th>2%</th>\n",
       "      <th>1%</th>\n",
       "      <th>1 in 200</th>\n",
       "      <th>1 in 500</th>\n",
       "      <th>1 in 1000</th>\n",
       "      <th>1 in 2000</th>\n",
       "    </tr>\n",
       "  </thead>\n",
       "  <tbody>\n",
       "    <tr>\n",
       "      <th>0</th>\n",
       "      <td>1 min</td>\n",
       "      <td>1</td>\n",
       "      <td>0.571</td>\n",
       "      <td>0.659</td>\n",
       "      <td>0.825</td>\n",
       "      <td>0.954</td>\n",
       "      <td>1.15</td>\n",
       "      <td>1.55</td>\n",
       "      <td>1.74</td>\n",
       "      <td>1.93</td>\n",
       "      <td>2.40</td>\n",
       "      <td>2.45</td>\n",
       "      <td>2.91</td>\n",
       "      <td>3.46</td>\n",
       "      <td>4.27</td>\n",
       "      <td>4.96</td>\n",
       "      <td>5.71</td>\n",
       "      <td>6.68</td>\n",
       "      <td>7.47</td>\n",
       "      <td>8.32</td>\n",
       "    </tr>\n",
       "    <tr>\n",
       "      <th>1</th>\n",
       "      <td>2 min</td>\n",
       "      <td>2</td>\n",
       "      <td>1.000</td>\n",
       "      <td>1.150</td>\n",
       "      <td>1.440</td>\n",
       "      <td>1.660</td>\n",
       "      <td>1.99</td>\n",
       "      <td>2.65</td>\n",
       "      <td>2.95</td>\n",
       "      <td>3.28</td>\n",
       "      <td>3.98</td>\n",
       "      <td>4.06</td>\n",
       "      <td>4.78</td>\n",
       "      <td>5.63</td>\n",
       "      <td>6.84</td>\n",
       "      <td>7.87</td>\n",
       "      <td>8.91</td>\n",
       "      <td>10.30</td>\n",
       "      <td>11.40</td>\n",
       "      <td>12.60</td>\n",
       "    </tr>\n",
       "    <tr>\n",
       "      <th>2</th>\n",
       "      <td>3 min</td>\n",
       "      <td>3</td>\n",
       "      <td>1.350</td>\n",
       "      <td>1.560</td>\n",
       "      <td>1.940</td>\n",
       "      <td>2.230</td>\n",
       "      <td>2.69</td>\n",
       "      <td>3.56</td>\n",
       "      <td>3.97</td>\n",
       "      <td>4.41</td>\n",
       "      <td>5.38</td>\n",
       "      <td>5.49</td>\n",
       "      <td>6.47</td>\n",
       "      <td>7.63</td>\n",
       "      <td>9.29</td>\n",
       "      <td>10.70</td>\n",
       "      <td>12.20</td>\n",
       "      <td>14.10</td>\n",
       "      <td>15.70</td>\n",
       "      <td>17.40</td>\n",
       "    </tr>\n",
       "    <tr>\n",
       "      <th>3</th>\n",
       "      <td>4 min</td>\n",
       "      <td>4</td>\n",
       "      <td>1.640</td>\n",
       "      <td>1.900</td>\n",
       "      <td>2.360</td>\n",
       "      <td>2.720</td>\n",
       "      <td>3.27</td>\n",
       "      <td>4.34</td>\n",
       "      <td>4.85</td>\n",
       "      <td>5.38</td>\n",
       "      <td>6.60</td>\n",
       "      <td>6.74</td>\n",
       "      <td>7.95</td>\n",
       "      <td>9.40</td>\n",
       "      <td>11.50</td>\n",
       "      <td>13.30</td>\n",
       "      <td>15.20</td>\n",
       "      <td>17.60</td>\n",
       "      <td>19.70</td>\n",
       "      <td>21.80</td>\n",
       "    </tr>\n",
       "    <tr>\n",
       "      <th>4</th>\n",
       "      <td>5 min</td>\n",
       "      <td>5</td>\n",
       "      <td>1.900</td>\n",
       "      <td>2.190</td>\n",
       "      <td>2.730</td>\n",
       "      <td>3.150</td>\n",
       "      <td>3.78</td>\n",
       "      <td>5.00</td>\n",
       "      <td>5.60</td>\n",
       "      <td>6.22</td>\n",
       "      <td>7.67</td>\n",
       "      <td>7.83</td>\n",
       "      <td>9.26</td>\n",
       "      <td>11.00</td>\n",
       "      <td>13.50</td>\n",
       "      <td>15.60</td>\n",
       "      <td>17.90</td>\n",
       "      <td>20.80</td>\n",
       "      <td>23.20</td>\n",
       "      <td>25.80</td>\n",
       "    </tr>\n",
       "    <tr>\n",
       "      <th>5</th>\n",
       "      <td>10 min</td>\n",
       "      <td>10</td>\n",
       "      <td>2.860</td>\n",
       "      <td>3.290</td>\n",
       "      <td>4.080</td>\n",
       "      <td>4.690</td>\n",
       "      <td>5.62</td>\n",
       "      <td>7.42</td>\n",
       "      <td>8.35</td>\n",
       "      <td>9.27</td>\n",
       "      <td>11.60</td>\n",
       "      <td>11.80</td>\n",
       "      <td>14.10</td>\n",
       "      <td>16.70</td>\n",
       "      <td>20.70</td>\n",
       "      <td>24.10</td>\n",
       "      <td>27.80</td>\n",
       "      <td>32.50</td>\n",
       "      <td>36.40</td>\n",
       "      <td>40.70</td>\n",
       "    </tr>\n",
       "    <tr>\n",
       "      <th>6</th>\n",
       "      <td>15 min</td>\n",
       "      <td>15</td>\n",
       "      <td>3.540</td>\n",
       "      <td>4.050</td>\n",
       "      <td>5.010</td>\n",
       "      <td>5.740</td>\n",
       "      <td>6.86</td>\n",
       "      <td>9.04</td>\n",
       "      <td>10.20</td>\n",
       "      <td>11.30</td>\n",
       "      <td>14.20</td>\n",
       "      <td>14.40</td>\n",
       "      <td>17.20</td>\n",
       "      <td>20.50</td>\n",
       "      <td>25.40</td>\n",
       "      <td>29.60</td>\n",
       "      <td>34.20</td>\n",
       "      <td>40.00</td>\n",
       "      <td>44.80</td>\n",
       "      <td>50.00</td>\n",
       "    </tr>\n",
       "    <tr>\n",
       "      <th>7</th>\n",
       "      <td>20 min</td>\n",
       "      <td>20</td>\n",
       "      <td>4.070</td>\n",
       "      <td>4.650</td>\n",
       "      <td>5.720</td>\n",
       "      <td>6.550</td>\n",
       "      <td>7.81</td>\n",
       "      <td>10.30</td>\n",
       "      <td>11.60</td>\n",
       "      <td>12.80</td>\n",
       "      <td>16.10</td>\n",
       "      <td>16.40</td>\n",
       "      <td>19.50</td>\n",
       "      <td>23.30</td>\n",
       "      <td>28.80</td>\n",
       "      <td>33.60</td>\n",
       "      <td>38.70</td>\n",
       "      <td>45.30</td>\n",
       "      <td>50.70</td>\n",
       "      <td>56.60</td>\n",
       "    </tr>\n",
       "    <tr>\n",
       "      <th>8</th>\n",
       "      <td>25 min</td>\n",
       "      <td>25</td>\n",
       "      <td>4.510</td>\n",
       "      <td>5.140</td>\n",
       "      <td>6.310</td>\n",
       "      <td>7.210</td>\n",
       "      <td>8.59</td>\n",
       "      <td>11.30</td>\n",
       "      <td>12.70</td>\n",
       "      <td>14.10</td>\n",
       "      <td>17.60</td>\n",
       "      <td>17.90</td>\n",
       "      <td>21.30</td>\n",
       "      <td>25.40</td>\n",
       "      <td>31.50</td>\n",
       "      <td>36.70</td>\n",
       "      <td>42.20</td>\n",
       "      <td>49.40</td>\n",
       "      <td>55.20</td>\n",
       "      <td>61.50</td>\n",
       "    </tr>\n",
       "    <tr>\n",
       "      <th>9</th>\n",
       "      <td>30 min</td>\n",
       "      <td>30</td>\n",
       "      <td>4.880</td>\n",
       "      <td>5.560</td>\n",
       "      <td>6.820</td>\n",
       "      <td>7.780</td>\n",
       "      <td>9.25</td>\n",
       "      <td>12.10</td>\n",
       "      <td>13.60</td>\n",
       "      <td>15.10</td>\n",
       "      <td>18.80</td>\n",
       "      <td>19.20</td>\n",
       "      <td>22.80</td>\n",
       "      <td>27.20</td>\n",
       "      <td>33.60</td>\n",
       "      <td>39.20</td>\n",
       "      <td>45.10</td>\n",
       "      <td>52.60</td>\n",
       "      <td>58.80</td>\n",
       "      <td>65.50</td>\n",
       "    </tr>\n",
       "  </tbody>\n",
       "</table>\n",
       "</div>"
      ],
      "text/plain": [
       "  Duration  Duration in min   12EY    6EY    4EY    3EY   2EY  63.20%    50%  \\\n",
       "0    1 min                1  0.571  0.659  0.825  0.954  1.15    1.55   1.74   \n",
       "1    2 min                2  1.000  1.150  1.440  1.660  1.99    2.65   2.95   \n",
       "2    3 min                3  1.350  1.560  1.940  2.230  2.69    3.56   3.97   \n",
       "3    4 min                4  1.640  1.900  2.360  2.720  3.27    4.34   4.85   \n",
       "4    5 min                5  1.900  2.190  2.730  3.150  3.78    5.00   5.60   \n",
       "5   10 min               10  2.860  3.290  4.080  4.690  5.62    7.42   8.35   \n",
       "6   15 min               15  3.540  4.050  5.010  5.740  6.86    9.04  10.20   \n",
       "7   20 min               20  4.070  4.650  5.720  6.550  7.81   10.30  11.60   \n",
       "8   25 min               25  4.510  5.140  6.310  7.210  8.59   11.30  12.70   \n",
       "9   30 min               30  4.880  5.560  6.820  7.780  9.25   12.10  13.60   \n",
       "\n",
       "   0.5EY    20%  0.2EY    10%     5%     2%     1%  1 in 200  1 in 500  \\\n",
       "0   1.93   2.40   2.45   2.91   3.46   4.27   4.96      5.71      6.68   \n",
       "1   3.28   3.98   4.06   4.78   5.63   6.84   7.87      8.91     10.30   \n",
       "2   4.41   5.38   5.49   6.47   7.63   9.29  10.70     12.20     14.10   \n",
       "3   5.38   6.60   6.74   7.95   9.40  11.50  13.30     15.20     17.60   \n",
       "4   6.22   7.67   7.83   9.26  11.00  13.50  15.60     17.90     20.80   \n",
       "5   9.27  11.60  11.80  14.10  16.70  20.70  24.10     27.80     32.50   \n",
       "6  11.30  14.20  14.40  17.20  20.50  25.40  29.60     34.20     40.00   \n",
       "7  12.80  16.10  16.40  19.50  23.30  28.80  33.60     38.70     45.30   \n",
       "8  14.10  17.60  17.90  21.30  25.40  31.50  36.70     42.20     49.40   \n",
       "9  15.10  18.80  19.20  22.80  27.20  33.60  39.20     45.10     52.60   \n",
       "\n",
       "   1 in 1000  1 in 2000  \n",
       "0       7.47       8.32  \n",
       "1      11.40      12.60  \n",
       "2      15.70      17.40  \n",
       "3      19.70      21.80  \n",
       "4      23.20      25.80  \n",
       "5      36.40      40.70  \n",
       "6      44.80      50.00  \n",
       "7      50.70      56.60  \n",
       "8      55.20      61.50  \n",
       "9      58.80      65.50  "
      ]
     },
     "execution_count": 19,
     "metadata": {},
     "output_type": "execute_result"
    }
   ],
   "source": [
    "df.head(10)"
   ]
  },
  {
   "cell_type": "code",
   "execution_count": 24,
   "metadata": {},
   "outputs": [],
   "source": [
    "df['Duration_in_hour'] = df.iloc[:,1] / 60"
   ]
  },
  {
   "cell_type": "code",
   "execution_count": 27,
   "metadata": {},
   "outputs": [],
   "source": [
    "df2 = df[['Duration in min','Duration_in_hour']].copy()"
   ]
  },
  {
   "cell_type": "code",
   "execution_count": 29,
   "metadata": {},
   "outputs": [],
   "source": [
    "df2['intensity (mm/hr)'] = df['1%'] / df2['Duration_in_hour']"
   ]
  },
  {
   "cell_type": "code",
   "execution_count": 31,
   "metadata": {
    "colab": {
     "base_uri": "https://localhost:8080/",
     "height": 956
    },
    "id": "2d6da1bb-d6b6-40ca-8143-ceb97d6f24df",
    "outputId": "29f63447-5c36-49c5-cce4-10f376ea64a6"
   },
   "outputs": [
    {
     "data": {
      "text/plain": [
       "<matplotlib.collections.PathCollection at 0x7f2193295550>"
      ]
     },
     "execution_count": 31,
     "metadata": {},
     "output_type": "execute_result"
    },
    {
     "data": {
      "image/png": "[encoded data removed]",
      "text/plain": [
       "<Figure size 432x288 with 1 Axes>"
      ]
     },
     "metadata": {
      "needs_background": "light"
     },
     "output_type": "display_data"
    }
   ],
   "source": [
    "durations = df2[\"Duration in min\"]\n",
    "intensities = df2[\"intensity (mm/hr)\"]\n",
    "\n",
    "plt.scatter(durations, intensities)\n"
   ]
  },
  {
   "cell_type": "code",
   "execution_count": 36,
   "metadata": {
    "colab": {
     "base_uri": "https://localhost:8080/",
     "height": 334
    },
    "id": "08c34568-2f6e-491d-ae90-71cb37c1ef22",
    "outputId": "d829075b-b0bc-4962-8c27-9bc421c0cf15"
   },
   "outputs": [
    {
     "name": "stdout",
     "output_type": "stream",
     "text": [
      "A = 858.0814272526551\n",
      "B = 3.946554460091999\n",
      "C = 0.6936267491650622\n",
      "R-squared = 0.9967038778742779\n"
     ]
    },
    {
     "data": {
      "image/png": "[encoded data removed]",
      "text/plain": [
       "<Figure size 432x288 with 1 Axes>"
      ]
     },
     "metadata": {
      "needs_background": "light"
     },
     "output_type": "display_data"
    }
   ],
   "source": [
    "A, B, C, r2 = getABC(durations, intensities, priority_durations=[120])\n",
    "plt.scatter(durations, intensities)\n",
    "plt.plot(durations, getIntensity(durations, A, B, C))\n",
    "print(\"A = {0}\".format(A))\n",
    "print(\"B = {0}\".format(B))\n",
    "print(\"C = {0}\".format(C))\n",
    "print(\"R-squared = {0}\".format(r2))"
   ]
  },
  {
   "cell_type": "code",
   "execution_count": 37,
   "metadata": {
    "colab": {
     "base_uri": "https://localhost:8080/",
     "height": 320
    },
    "id": "6738dfbe-2ee9-41e2-9bed-d7e0338a9f9a",
    "outputId": "c36138c6-c464-45b2-cf23-e9bbc9705eb6"
   },
   "outputs": [
    {
     "data": {
      "text/plain": [
       "<AxesSubplot:xlabel='Time'>"
      ]
     },
     "execution_count": 37,
     "metadata": {},
     "output_type": "execute_result"
    },
    {
     "data": {
      "image/png": "[encoded data removed]",
      "text/plain": [
       "<Figure size 432x288 with 1 Axes>"
      ]
     },
     "metadata": {
      "needs_background": "light"
     },
     "output_type": "display_data"
    }
   ],
   "source": [
    "storm = createCDS(60, 0.087, 1, A, B, C)\n",
    "storm.plot()"
   ]
  },
  {
   "cell_type": "code",
   "execution_count": 38,
   "metadata": {
    "id": "075ba19d-212b-4b72-b56b-df0f9b6088d8"
   },
   "outputs": [],
   "source": [
    "storm['depth'] = storm['Intensity']/60*1"
   ]
  },
  {
   "cell_type": "code",
   "execution_count": 39,
   "metadata": {
    "colab": {
     "base_uri": "https://localhost:8080/",
     "height": 455
    },
    "id": "b117fcdc-47ba-42a7-9352-7c188cab1ac5",
    "outputId": "d4430345-d025-4915-ba54-d0630be24ae4"
   },
   "outputs": [
    {
     "data": {
      "text/html": [
       "<div>\n",
       "<style scoped>\n",
       "    .dataframe tbody tr th:only-of-type {\n",
       "        vertical-align: middle;\n",
       "    }\n",
       "\n",
       "    .dataframe tbody tr th {\n",
       "        vertical-align: top;\n",
       "    }\n",
       "\n",
       "    .dataframe thead th {\n",
       "        text-align: right;\n",
       "    }\n",
       "</style>\n",
       "<table border=\"1\" class=\"dataframe\">\n",
       "  <thead>\n",
       "    <tr style=\"text-align: right;\">\n",
       "      <th></th>\n",
       "      <th>Intensity</th>\n",
       "      <th>depth</th>\n",
       "    </tr>\n",
       "    <tr>\n",
       "      <th>Time</th>\n",
       "      <th></th>\n",
       "      <th></th>\n",
       "    </tr>\n",
       "  </thead>\n",
       "  <tbody>\n",
       "    <tr>\n",
       "      <th>2000-01-01 00:00:00</th>\n",
       "      <td>0.000000</td>\n",
       "      <td>0.000000</td>\n",
       "    </tr>\n",
       "    <tr>\n",
       "      <th>2000-01-01 00:01:00</th>\n",
       "      <td>17.890030</td>\n",
       "      <td>0.298167</td>\n",
       "    </tr>\n",
       "    <tr>\n",
       "      <th>2000-01-01 00:02:00</th>\n",
       "      <td>21.470845</td>\n",
       "      <td>0.357847</td>\n",
       "    </tr>\n",
       "    <tr>\n",
       "      <th>2000-01-01 00:03:00</th>\n",
       "      <td>27.397732</td>\n",
       "      <td>0.456629</td>\n",
       "    </tr>\n",
       "    <tr>\n",
       "      <th>2000-01-01 00:04:00</th>\n",
       "      <td>39.440644</td>\n",
       "      <td>0.657344</td>\n",
       "    </tr>\n",
       "    <tr>\n",
       "      <th>...</th>\n",
       "      <td>...</td>\n",
       "      <td>...</td>\n",
       "    </tr>\n",
       "    <tr>\n",
       "      <th>2000-01-01 00:56:00</th>\n",
       "      <td>17.913971</td>\n",
       "      <td>0.298566</td>\n",
       "    </tr>\n",
       "    <tr>\n",
       "      <th>2000-01-01 00:57:00</th>\n",
       "      <td>17.644055</td>\n",
       "      <td>0.294068</td>\n",
       "    </tr>\n",
       "    <tr>\n",
       "      <th>2000-01-01 00:58:00</th>\n",
       "      <td>17.383626</td>\n",
       "      <td>0.289727</td>\n",
       "    </tr>\n",
       "    <tr>\n",
       "      <th>2000-01-01 00:59:00</th>\n",
       "      <td>17.132173</td>\n",
       "      <td>0.285536</td>\n",
       "    </tr>\n",
       "    <tr>\n",
       "      <th>2000-01-01 01:00:00</th>\n",
       "      <td>16.889223</td>\n",
       "      <td>0.281487</td>\n",
       "    </tr>\n",
       "  </tbody>\n",
       "</table>\n",
       "<p>61 rows × 2 columns</p>\n",
       "</div>"
      ],
      "text/plain": [
       "                     Intensity     depth\n",
       "Time                                    \n",
       "2000-01-01 00:00:00   0.000000  0.000000\n",
       "2000-01-01 00:01:00  17.890030  0.298167\n",
       "2000-01-01 00:02:00  21.470845  0.357847\n",
       "2000-01-01 00:03:00  27.397732  0.456629\n",
       "2000-01-01 00:04:00  39.440644  0.657344\n",
       "...                        ...       ...\n",
       "2000-01-01 00:56:00  17.913971  0.298566\n",
       "2000-01-01 00:57:00  17.644055  0.294068\n",
       "2000-01-01 00:58:00  17.383626  0.289727\n",
       "2000-01-01 00:59:00  17.132173  0.285536\n",
       "2000-01-01 01:00:00  16.889223  0.281487\n",
       "\n",
       "[61 rows x 2 columns]"
      ]
     },
     "execution_count": 39,
     "metadata": {},
     "output_type": "execute_result"
    }
   ],
   "source": [
    "storm"
   ]
  },
  {
   "cell_type": "code",
   "execution_count": 41,
   "metadata": {
    "id": "359b65da-0d9c-4fa8-be26-6da9a2332ae3"
   },
   "outputs": [],
   "source": [
    "storm.to_csv('Outputs/stormseries_1AEP.csv')"
   ]
  },
  {
   "cell_type": "code",
   "execution_count": 42,
   "metadata": {
    "id": "0b470068-457e-4d68-9ff4-37888dfab3ad"
   },
   "outputs": [],
   "source": [
    "timelabel = np.arange(0,61,1)"
   ]
  },
  {
   "cell_type": "code",
   "execution_count": 43,
   "metadata": {
    "colab": {
     "base_uri": "https://localhost:8080/"
    },
    "id": "BwmrlWTYOw_n",
    "outputId": "a9ab14a2-f368-49e4-cdb8-303619d0c3d2"
   },
   "outputs": [
    {
     "data": {
      "text/plain": [
       "array([ 0.,  6., 12., 18., 24., 30., 36., 42., 48., 54., 60.])"
      ]
     },
     "execution_count": 43,
     "metadata": {},
     "output_type": "execute_result"
    }
   ],
   "source": [
    "np.linspace(0,60,11)"
   ]
  },
  {
   "cell_type": "code",
   "execution_count": null,
   "metadata": {
    "colab": {
     "base_uri": "https://localhost:8080/"
    },
    "id": "HuH5VDmCPGFy",
    "outputId": "eef7fd03-de22-431d-f271-347704c9aac7"
   },
   "outputs": [
    {
     "data": {
      "text/plain": [
       "array([ 0,  1,  2,  3,  4,  5,  6,  7,  8,  9, 10, 11, 12, 13, 14, 15, 16,\n",
       "       17, 18, 19, 20, 21, 22, 23, 24, 25, 26, 27, 28, 29, 30, 31, 32, 33,\n",
       "       34, 35, 36, 37, 38, 39, 40, 41, 42, 43, 44, 45, 46, 47, 48, 49, 50,\n",
       "       51, 52, 53, 54, 55, 56, 57, 58, 59, 60])"
      ]
     },
     "execution_count": 43,
     "metadata": {},
     "output_type": "execute_result"
    }
   ],
   "source": [
    "timelabel"
   ]
  },
  {
   "cell_type": "code",
   "execution_count": 45,
   "metadata": {
    "colab": {
     "base_uri": "https://localhost:8080/",
     "height": 891
    },
    "id": "0f80a9d4-ef01-4e3e-9b42-1f10ad47a22f",
    "outputId": "84d78398-1d2c-4323-9ee9-5bfe51f0b1bf"
   },
   "outputs": [
    {
     "data": {
      "image/png": "[encoded data removed]",
      "text/plain": [
       "<Figure size 1440x1080 with 1 Axes>"
      ]
     },
     "metadata": {
      "needs_background": "light"
     },
     "output_type": "display_data"
    }
   ],
   "source": [
    "fig, ax=plt.subplots(figsize=(20,15))\n",
    "ax.bar(range(len(storm)), storm['Intensity'],width=1, color='lightgrey',edgecolor='black')\n",
    "plt.xticks(fontsize=15)\n",
    "plt.yticks(fontsize=15)\n",
    "\n",
    "plt.xlabel('Time (mins)',fontsize=20)\n",
    "plt.ylabel('Intentisty (mm/h)',fontsize=20)\n",
    "plt.savefig('Outputs/Hydrograph.png')"
   ]
  },
  {
   "cell_type": "markdown",
   "metadata": {
    "id": "086d4c74-bdf0-43bb-9a7a-3cf6e54fbb18"
   },
   "source": [
    "## Links of datasets for hydrodynmaic modelling"
   ]
  },
  {
   "cell_type": "markdown",
   "metadata": {},
   "source": [
    "URLs for the datasets are all presented below. For datasets in zip and csv, a process of downloading and unzipping will begin if run the corresponding codes. For datasets of raster and gdb, links are provided but required a manual access."
   ]
  },
  {
   "cell_type": "markdown",
   "metadata": {},
   "source": [
    "### List for Access"
   ]
  },
  {
   "cell_type": "markdown",
   "metadata": {},
   "source": [
    "[1]&emsp;[10m DEM for the City of Melbourne](https://elevation.fsdf.org.au/)\n",
    "\n",
    "[2]&emsp;[Sentinel-2 10m land cover](https://www.arcgis.com/home/item.html?id=d3da5dd386d140cf93fc9ecbf8da5e31)\n",
    "\n",
    "[3]&emsp;[Surface Hydrology Polygons](https://ecat.ga.gov.au/geonetwork/srv/eng/catalog.search#/metadata/83134)\n"
   ]
  },
  {
   "cell_type": "code",
   "execution_count": 47,
   "metadata": {},
   "outputs": [],
   "source": [
    "URL_MunicipalBoundary = 'https://data.melbourne.vic.gov.au/api/geospatial/ck33-yh8z?method=export&format=Shapefile'\n",
    "\n",
    "URL_Building = 'https://data.melbourne.vic.gov.au/api/geospatial/pv8y-ihee?method=export&format=Shapefile'\n",
    "\n",
    "URL_Soil = 'https://data.melbourne.vic.gov.au/api/geospatial/t3zn-qgfx?method=export&format=Shapefile'\n",
    "\n",
    "URL_Road = 'https://data.melbourne.vic.gov.au/api/geospatial/su97-b2at?method=export&format=Shapefile'\n",
    "\n",
    "URL_Street = 'https://data.melbourne.vic.gov.au/api/geospatial/2x56-ai8r?method=export&format=Shapefile'\n",
    "\n",
    "URL_Drainpipes = 'https://data.melbourne.vic.gov.au/api/geospatial/3bff-vaa5?method=export&format=Shapefile'\n",
    "\n",
    "CSV_URL_Strompits = 'https://data.melbourne.vic.gov.au/api/views/psq9-yz4x/rows.csv?accessType=DOWNLOAD'\n",
    "\n",
    "ZipList = [URL_MunicipalBoundary,URL_Building,URL_Soil,URL_Road,URL_Street,URL_Drainpipes]"
   ]
  },
  {
   "cell_type": "code",
   "execution_count": null,
   "metadata": {},
   "outputs": [],
   "source": [
    "import requests, zipfile, io\n",
    "\n",
    "dirs = 'Resources/Raw'\n",
    "if not os.path.exists(dirs):\n",
    "    os.makedirs(dirs)\n",
    "\n",
    "for url in ZipList:\n",
    "    r = requests.get(url)\n",
    "    z = zipfile.ZipFile(io.BytesIO(r.content))\n",
    "    z.extractall(\"Resources/Raw\")"
   ]
  }
 ],
 "metadata": {
  "colab": {
   "name": "Processing.ipynb",
   "provenance": []
  },
  "kernelspec": {
   "display_name": "Python 3",
   "language": "python",
   "name": "python3"
  },
  "language_info": {
   "codemirror_mode": {
    "name": "ipython",
    "version": 3
   },
   "file_extension": ".py",
   "mimetype": "text/x-python",
   "name": "python",
   "nbconvert_exporter": "python",
   "pygments_lexer": "ipython3",
   "version": "3.8.5"
  }
 },
 "nbformat": 4,
 "nbformat_minor": 5
}
